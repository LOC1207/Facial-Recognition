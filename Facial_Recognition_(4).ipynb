{
  "nbformat": 4,
  "nbformat_minor": 0,
  "metadata": {
    "colab": {
      "name": "Facial_Recognition (4).ipynb",
      "version": "0.3.2",
      "provenance": []
    },
    "kernelspec": {
      "name": "python3",
      "display_name": "Python 3"
    }
  },
  "cells": [
    {
      "metadata": {
        "id": "vLIZgW9aa2Z5",
        "colab_type": "code",
        "colab": {}
      },
      "cell_type": "code",
      "source": [
        "import os\n",
        "import time\n",
        "import cv2\n",
        "import matplotlib.pyplot as plt\n",
        "import pandas as pd\n",
        "from sklearn.decomposition import PCA\n",
        "from sklearn.linear_model import LogisticRegression\n",
        "from sklearn.metrics import accuracy_score\n",
        "from sklearn.model_selection import train_test_split\n",
        "from sklearn.metrics import classification_report\n",
        "from sklearn.metrics import f1_score\n",
        "from sklearn.preprocessing import StandardScaler, scale\n",
        "from sklearn.svm import LinearSVC\n",
        "from skimage import io"
      ],
      "execution_count": 0,
      "outputs": []
    },
    {
      "metadata": {
        "id": "D_2Bzlvqa3BY",
        "colab_type": "code",
        "outputId": "28c097e8-fcf8-4470-97d6-ae3b301f84ca",
        "colab": {
          "base_uri": "https://localhost:8080/",
          "height": 171
        }
      },
      "cell_type": "code",
      "source": [
        "from google.colab import drive\n",
        "drive.mount('/content/drive')\n",
        "!ls \"/content/drive/My Drive/data\"\n",
        "x = []\n",
        "y = []\n",
        "path = 'content/drive/My Drive/data'\n",
        "path_new = []\n",
        "path_data = []\n",
        "images = []\n",
        "dir = os.listdir('/content/drive/My Drive/data')\n",
        "for sub_dir in dir:\n",
        "  if(sub_dir=='README'):\n",
        "    continue\n",
        "  path_new.append(sub_dir)\n",
        "\n",
        "for loc in path_new:\n",
        "  loc='/'+path + '/'+loc\n",
        "  path_data.append(loc)\n",
        "\n",
        "for paths in path_data:\n",
        "  for image in os.listdir(paths):\n",
        "    images.append(image)\n",
        "#for path1 in path_data:"
      ],
      "execution_count": 2,
      "outputs": [
        {
          "output_type": "stream",
          "text": [
            "Go to this URL in a browser: https://accounts.google.com/o/oauth2/auth?client_id=947318989803-6bn6qk8qdgf4n4g3pfee6491hc0brc4i.apps.googleusercontent.com&redirect_uri=urn%3Aietf%3Awg%3Aoauth%3A2.0%3Aoob&scope=email%20https%3A%2F%2Fwww.googleapis.com%2Fauth%2Fdocs.test%20https%3A%2F%2Fwww.googleapis.com%2Fauth%2Fdrive%20https%3A%2F%2Fwww.googleapis.com%2Fauth%2Fdrive.photos.readonly%20https%3A%2F%2Fwww.googleapis.com%2Fauth%2Fpeopleapi.readonly&response_type=code\n",
            "\n",
            "Enter your authorization code:\n",
            "··········\n",
            "Mounted at /content/drive\n",
            "README\ts11  s14  s17  s2   s22  s25  s28  s30\ts33  s36  s39  s5  s8\n",
            "s1\ts12  s15  s18  s20  s23  s26  s29  s31\ts34  s37  s4   s6  s9\n",
            "s10\ts13  s16  s19  s21  s24  s27  s3   s32\ts35  s38  s40  s7\n"
          ],
          "name": "stdout"
        }
      ]
    },
    {
      "metadata": {
        "id": "-L2GUev9a3D-",
        "colab_type": "code",
        "colab": {}
      },
      "cell_type": "code",
      "source": [
        "import numpy as np\n",
        "\n",
        "X = []\n",
        "y = []\n",
        "\n",
        "for sub_dir in os.listdir('/content/drive/My Drive/data'):\n",
        "    if not os.path.isdir(os.path.join('/content/drive/My Drive/data', sub_dir)):\n",
        "        continue\n",
        "        \n",
        "    label = int(sub_dir[1:])\n",
        "    for file in os.listdir(os.path.join('/content/drive/My Drive/data', sub_dir)):\n",
        "        filename = os.path.join('/content/drive/My Drive/data', sub_dir, file)\n",
        "        image = cv2.imread(filename,0)\n",
        "\n",
        "        X.append(image)\n",
        "        y.append(label)\n",
        "        \n",
        "X = np.array(X, dtype='float64')\n",
        "y = np.array(y)\n"
      ],
      "execution_count": 0,
      "outputs": []
    },
    {
      "metadata": {
        "id": "RGB8SJ_4a3Gn",
        "colab_type": "code",
        "outputId": "a826e59b-7572-4415-a12c-20a1c2c08d23",
        "colab": {
          "base_uri": "https://localhost:8080/",
          "height": 67
        }
      },
      "cell_type": "code",
      "source": [
        "print(np.unique(y))\n",
        "print(\"X.shape: {}, y.shape: {}\".format(X.shape, y.shape))\n"
      ],
      "execution_count": 4,
      "outputs": [
        {
          "output_type": "stream",
          "text": [
            "[ 1  2  3  4  5  6  7  8  9 10 11 12 13 14 15 16 17 18 19 20 21 22 23 24\n",
            " 25 26 27 28 29 30 31 32 33 34 35 36 37 38 39 40]\n",
            "X.shape: (400, 112, 92), y.shape: (400,)\n"
          ],
          "name": "stdout"
        }
      ]
    },
    {
      "metadata": {
        "id": "Nm2_XGuBa3JO",
        "colab_type": "code",
        "outputId": "af2e08c7-9cac-4292-aa4e-a5eeeb1b61e3",
        "colab": {
          "base_uri": "https://localhost:8080/",
          "height": 350
        }
      },
      "cell_type": "code",
      "source": [
        "pltimage = plt.imshow(X[1], cmap='gray')\n",
        "plt.show()"
      ],
      "execution_count": 5,
      "outputs": [
        {
          "output_type": "display_data",
          "data": {
            "image/png": "[encoded data removed]",
            "text/plain": [
              "<Figure size 576x396 with 1 Axes>"
            ]
          },
          "metadata": {
            "tags": []
          }
        }
      ]
    },
    {
      "metadata": {
        "id": "cEZjSQ4-ea6V",
        "colab_type": "text"
      },
      "cell_type": "markdown",
      "source": [
        ""
      ]
    },
    {
      "metadata": {
        "id": "dH1N7n_5a3Lu",
        "colab_type": "code",
        "outputId": "5c498740-2177-4df5-f911-6dcf32a4030d",
        "colab": {
          "base_uri": "https://localhost:8080/",
          "height": 34
        }
      },
      "cell_type": "code",
      "source": [
        "total_images = X.shape[0]\n",
        "X_dimension = X.shape[1]\n",
        "Y_dimension = X.shape[2]\n",
        "X=X.reshape(total_images,(X_dimension*Y_dimension))\n",
        "print(X.shape)"
      ],
      "execution_count": 6,
      "outputs": [
        {
          "output_type": "stream",
          "text": [
            "(400, 10304)\n"
          ],
          "name": "stdout"
        }
      ]
    },
    {
      "metadata": {
        "id": "hxijOj_Ga3OO",
        "colab_type": "code",
        "outputId": "aaac2e50-36db-4a40-f4c8-4afd40bac88d",
        "colab": {
          "base_uri": "https://localhost:8080/",
          "height": 34
        }
      },
      "cell_type": "code",
      "source": [
        "num = 5\n",
        "x_sample = X[y<=num]\n",
        "y_sample = y[y<=num]\n",
        "#print(x_sample, y_sample)\n",
        "scaler = StandardScaler()\n",
        "#print(scaler.fit(x_sample))\n",
        "#print(scaler.mean_)\n",
        "x_scaler = scaler.fit_transform(x_sample)\n",
        "print(x_scaler.shape)"
      ],
      "execution_count": 7,
      "outputs": [
        {
          "output_type": "stream",
          "text": [
            "(50, 10304)\n"
          ],
          "name": "stdout"
        }
      ]
    },
    {
      "metadata": {
        "id": "K6ZbtacRa3Q1",
        "colab_type": "code",
        "colab": {}
      },
      "cell_type": "code",
      "source": [
        "def PCA_model(X):\n",
        "  pca = PCA(n_components=2)\n",
        "  pca.fit(X)\n",
        "  return pca\n"
      ],
      "execution_count": 0,
      "outputs": []
    },
    {
      "metadata": {
        "id": "qlJSjjOGa3Tn",
        "colab_type": "code",
        "colab": {
          "base_uri": "https://localhost:8080/",
          "height": 118
        },
        "outputId": "0a37b5bc-2107-4d54-a587-6c6c0914d3c5"
      },
      "cell_type": "code",
      "source": [
        "pca_model = PCA_model(x_scaler)\n",
        "x_pca = pca_model.fit_transform(x_scaler)\n",
        "\n",
        "print(\"x_pca.shape: %d %d\" %(x_pca.shape[0], x_pca.shape[1]))\n",
        "print(\"pca_model.explained_variance_ratio: \")\n",
        "print(pca_model.explained_variance_ratio_)\n",
        "\n",
        "\n",
        "pca_first= pca_model.components_[0]\n",
        "pca_second = pca_model.components_[1]\n",
        "print(\"pca_componenets: \")\n",
        "print(pca_first[0], pca_first[1], pca_first[2])\n",
        "print(pca_second[0], pca_second[1], pca_second[2])\n",
        "#print(pca_first, pca_second)"
      ],
      "execution_count": 21,
      "outputs": [
        {
          "output_type": "stream",
          "text": [
            "x_pca.shape: 50 2\n",
            "pca_model.explained_variance_ratio: \n",
            "[0.19366511 0.15008569]\n",
            "pca_componenets: \n",
            "-0.019850732346574692 -0.019763917840456658 -0.019939368269241697\n",
            "0.007952032048133214 0.00815504553550956 0.007317617907331448\n"
          ],
          "name": "stdout"
        }
      ]
    }
  ]
}