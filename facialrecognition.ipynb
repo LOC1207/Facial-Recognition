{
  "nbformat": 4,
  "nbformat_minor": 0,
  "metadata": {
    "colab": {
      "name": "facialrecognition.ipynb",
      "version": "0.3.2",
      "provenance": [],
      "collapsed_sections": []
    },
    "kernelspec": {
      "name": "python3",
      "display_name": "Python 3"
    }
  },
  "cells": [
    {
      "metadata": {
        "id": "wNMvuu5DuTKQ",
        "colab_type": "code",
        "colab": {}
      },
      "cell_type": "code",
      "source": [
        "import os\n",
        "import time\n",
        "import cv2\n",
        "import matplotlib.pyplot as plt\n",
        "import pandas as pd\n",
        "from sklearn.decomposition import PCA\n",
        "from sklearn.linear_model import LogisticRegression\n",
        "from sklearn.metrics import accuracy_score\n",
        "from sklearn.model_selection import train_test_split\n",
        "from sklearn.metrics import classification_report\n",
        "from sklearn.metrics import f1_score\n",
        "from sklearn.preprocessing import StandardScaler, scale\n",
        "from sklearn.svm import LinearSVC\n"
      ],
      "execution_count": 0,
      "outputs": []
    },
    {
      "metadata": {
        "id": "69Ke1QI_uTM-",
        "colab_type": "code",
        "colab": {}
      },
      "cell_type": "code",
      "source": [
        "from skimage import io"
      ],
      "execution_count": 0,
      "outputs": []
    },
    {
      "metadata": {
        "id": "jPz3oUyruTPl",
        "colab_type": "code",
        "outputId": "09e28dab-6a1f-4b94-efc3-d66963803494",
        "colab": {
          "base_uri": "https://localhost:8080/",
          "height": 121
        }
      },
      "cell_type": "code",
      "source": [
        "from google.colab import drive\n",
        "drive.mount('/content/drive')"
      ],
      "execution_count": 3,
      "outputs": [
        {
          "output_type": "stream",
          "text": [
            "Go to this URL in a browser: https://accounts.google.com/o/oauth2/auth?client_id=947318989803-6bn6qk8qdgf4n4g3pfee6491hc0brc4i.apps.googleusercontent.com&redirect_uri=urn%3Aietf%3Awg%3Aoauth%3A2.0%3Aoob&scope=email%20https%3A%2F%2Fwww.googleapis.com%2Fauth%2Fdocs.test%20https%3A%2F%2Fwww.googleapis.com%2Fauth%2Fdrive%20https%3A%2F%2Fwww.googleapis.com%2Fauth%2Fdrive.photos.readonly%20https%3A%2F%2Fwww.googleapis.com%2Fauth%2Fpeopleapi.readonly&response_type=code\n",
            "\n",
            "Enter your authorization code:\n",
            "··········\n",
            "Mounted at /content/drive\n"
          ],
          "name": "stdout"
        }
      ]
    },
    {
      "metadata": {
        "id": "Bm8R4mZ4uTSO",
        "colab_type": "code",
        "outputId": "0c046d4b-fb65-4b32-8881-5f6552d445c6",
        "colab": {
          "base_uri": "https://localhost:8080/",
          "height": 67
        }
      },
      "cell_type": "code",
      "source": [
        "!ls \"/content/drive/My Drive/data\"\n",
        " "
      ],
      "execution_count": 4,
      "outputs": [
        {
          "output_type": "stream",
          "text": [
            "README\ts11  s14  s17  s2   s22  s25  s28  s30\ts33  s36  s39  s5  s8\n",
            "s1\ts12  s15  s18  s20  s23  s26  s29  s31\ts34  s37  s4   s6  s9\n",
            "s10\ts13  s16  s19  s21  s24  s27  s3   s32\ts35  s38  s40  s7\n"
          ],
          "name": "stdout"
        }
      ]
    },
    {
      "metadata": {
        "id": "u5hxXRudEOpE",
        "colab_type": "code",
        "colab": {}
      },
      "cell_type": "code",
      "source": [
        "x = []\n",
        "y = []\n",
        "path = 'content/drive/My Drive/data'\n",
        "path_new = []\n",
        "path_data = []\n",
        "images = []\n",
        "dir = os.listdir('/content/drive/My Drive/data')\n",
        "for sub_dir in dir:\n",
        "  if(sub_dir=='README'):\n",
        "    continue\n",
        "  path_new.append(sub_dir)\n",
        "\n",
        "for loc in path_new:\n",
        "  loc='/'+path + '/'+loc\n",
        "  path_data.append(loc)\n",
        "\n",
        "for paths in path_data:\n",
        "  for image in os.listdir(paths):\n",
        "    images.append(image)\n",
        "#for path1 in path_data:\n"
      ],
      "execution_count": 0,
      "outputs": []
    },
    {
      "metadata": {
        "id": "xv_TTKhKuTU3",
        "colab_type": "code",
        "outputId": "119e5a80-3d20-4cb6-ba3d-e32d64c67a51",
        "colab": {
          "base_uri": "https://localhost:8080/",
          "height": 67
        }
      },
      "cell_type": "code",
      "source": [
        "\n",
        "import numpy as np\n",
        "\n",
        "X = []\n",
        "y = []\n",
        "\n",
        "for sub_dir in os.listdir('/content/drive/My Drive/data'):\n",
        "    if not os.path.isdir(os.path.join('/content/drive/My Drive/data', sub_dir)):\n",
        "        continue\n",
        "        \n",
        "    label = int(sub_dir[1:])\n",
        "    for file in os.listdir(os.path.join('/content/drive/My Drive/data', sub_dir)):\n",
        "        filename = os.path.join('/content/drive/My Drive/data', sub_dir, file)\n",
        "        image = cv2.imread(filename,0)\n",
        "\n",
        "        X.append(image)\n",
        "        y.append(label)\n",
        "        \n",
        "X = np.array(X, dtype='float64')\n",
        "y = np.array(y)\n",
        "print(np.unique(y))\n",
        "print(\"X.shape: {}, y.shape: {}\".format(X.shape, y.shape))"
      ],
      "execution_count": 6,
      "outputs": [
        {
          "output_type": "stream",
          "text": [
            "[ 1  2  3  4  5  6  7  8  9 10 11 12 13 14 15 16 17 18 19 20 21 22 23 24\n",
            " 25 26 27 28 29 30 31 32 33 34 35 36 37 38 39 40]\n",
            "X.shape: (400, 112, 92), y.shape: (400,)\n"
          ],
          "name": "stdout"
        }
      ]
    },
    {
      "metadata": {
        "id": "_AKGwv5ouTXW",
        "colab_type": "code",
        "outputId": "61f5d068-19a3-4b28-e085-60dde7b206f0",
        "colab": {
          "base_uri": "https://localhost:8080/",
          "height": 350
        }
      },
      "cell_type": "code",
      "source": [
        "pltimage = plt.imshow(X[1], cmap='gray')\n",
        "plt.show()\n"
      ],
      "execution_count": 7,
      "outputs": [
        {
          "output_type": "display_data",
          "data": {
            "image/png": "[encoded data removed]",
            "text/plain": [
              "<Figure size 576x396 with 1 Axes>"
            ]
          },
          "metadata": {
            "tags": []
          }
        }
      ]
    },
    {
      "metadata": {
        "id": "cKwlir7-uTaC",
        "colab_type": "code",
        "outputId": "5dca54db-3a2c-4bba-a0d8-97e0b7cc8a05",
        "colab": {
          "base_uri": "https://localhost:8080/",
          "height": 34
        }
      },
      "cell_type": "code",
      "source": [
        "total_images = X.shape[0]\n",
        "X_dimension = X.shape[1]\n",
        "Y_dimension = X.shape[2]\n",
        "X=X.reshape(total_images,(X_dimension*Y_dimension))\n",
        "print(X.shape)"
      ],
      "execution_count": 8,
      "outputs": [
        {
          "output_type": "stream",
          "text": [
            "(400, 10304)\n"
          ],
          "name": "stdout"
        }
      ]
    },
    {
      "metadata": {
        "id": "uofN3_DauTcg",
        "colab_type": "code",
        "outputId": "64504a6d-30ec-4d4b-f9ab-e9f3ef403758",
        "colab": {
          "base_uri": "https://localhost:8080/",
          "height": 34
        }
      },
      "cell_type": "code",
      "source": [
        "num = 5\n",
        "x_sample = X[y<=num]\n",
        "y_sample = y[y<=num]\n",
        "#print(x_sample, y_sample)\n",
        "scaler = StandardScaler()\n",
        "#print(scaler.fit(x_sample))\n",
        "#print(scaler.mean_)\n",
        "x_scaler = scaler.fit_transform(x_sample)\n",
        "print(x_scaler.shape)"
      ],
      "execution_count": 9,
      "outputs": [
        {
          "output_type": "stream",
          "text": [
            "(50, 10304)\n"
          ],
          "name": "stdout"
        }
      ]
    },
    {
      "metadata": {
        "id": "Br1fX_liuTfV",
        "colab_type": "code",
        "colab": {}
      },
      "cell_type": "code",
      "source": [
        "def PCA_model(X):\n",
        "  pca = PCA(n_components=2)\n",
        "  pca.fit(X)\n",
        "  return pca\n",
        "\n",
        "  "
      ],
      "execution_count": 0,
      "outputs": []
    },
    {
      "metadata": {
        "id": "ni0iX-dQuTiQ",
        "colab_type": "code",
        "outputId": "88225af3-bf3d-4137-a4d3-0b92a167cca2",
        "colab": {
          "base_uri": "https://localhost:8080/",
          "height": 50
        }
      },
      "cell_type": "code",
      "source": [
        "pca_model = PCA_model(x_scaler)\n",
        "x_pca = pca_model.fit_transform(x_scaler)\n",
        "print(x_pca.shape)\n",
        "print(pca_model.explained_variance_ratio_)"
      ],
      "execution_count": 11,
      "outputs": [
        {
          "output_type": "stream",
          "text": [
            "(50, 2)\n",
            "[0.19366511 0.15008569]\n"
          ],
          "name": "stdout"
        }
      ]
    },
    {
      "metadata": {
        "id": "mWVcU1BduTl9",
        "colab_type": "code",
        "outputId": "a5b8b3dc-541b-4d78-c4b7-f18ee2d20389",
        "colab": {
          "base_uri": "https://localhost:8080/",
          "height": 50
        }
      },
      "cell_type": "code",
      "source": [
        "pca_first= pca_model.components_[0]\n",
        "pca_second = pca_model.components_[1]\n",
        "print(pca_first[0], pca_first[1], pca_first[2])\n",
        "print(pca_second[0], pca_second[1], pca_second[2])\n",
        "#print(pca_first, pca_second)"
      ],
      "execution_count": 12,
      "outputs": [
        {
          "output_type": "stream",
          "text": [
            "-0.01985073236794129 -0.019763917860712688 -0.01993936829191424\n",
            "0.007952031780773973 0.008155045321382065 0.007317617767641529\n"
          ],
          "name": "stdout"
        }
      ]
    },
    {
      "metadata": {
        "id": "DYMhPfKUuTqi",
        "colab_type": "code",
        "outputId": "602e306a-9fc4-4de7-eebf-8b9c7eaeef9d",
        "colab": {
          "base_uri": "https://localhost:8080/",
          "height": 2044
        }
      },
      "cell_type": "code",
      "source": [
        "for i, j in zip(x_pca, x_scaler):\n",
        "  plt.scatter(pca_first[0]*i[0], pca_first[1]*i[0], color='r')\n",
        "  plt.scatter(pca_second[0]*i[1], pca_second[1]*i[1], color='c')\n",
        "  print(pca_first[0]*i[0], pca_first[1]*i[0])\n",
        "  print(pca_second[0]*i[1], pca_second[1]*i[1])\n",
        "  plt.scatter(j[0],j[1], color='b')\n",
        "plt.show()\n",
        "\n",
        "\"\"\"\n",
        "NOT ORTHOGONAL\n",
        "\"\"\""
      ],
      "execution_count": 13,
      "outputs": [
        {
          "output_type": "stream",
          "text": [
            "1.066390953147123 1.0617272357892678\n",
            "-0.11123081851878087 -0.11407051570747041\n",
            "0.43577629329398127 0.43387048430603065\n",
            "0.25065740950800575 0.2570566354651887\n",
            "0.9727857180184631 0.9685313705624878\n",
            "-0.12211952546386523 -0.1252372088340122\n",
            "0.7650017787828256 0.7616561464291653\n",
            "-0.02190134033635066 -0.022460476512905603\n",
            "0.5719651135916058 0.5694637011213738\n",
            "0.22645208477994075 0.23223335436948267\n",
            "0.6352083715883369 0.6324303732382113\n",
            "0.16805258444411741 0.17234292823510008\n",
            "0.4076846910809389 0.40590173693573084\n",
            "0.2846067450697162 0.29187268974781005\n",
            "0.8619774982434397 0.8582077556281495\n",
            "-0.0682834701374466 -0.07002673140950613\n",
            "0.330266438066242 0.32882206223448823\n",
            "0.1359028964437983 0.13937246610178888\n",
            "0.8659483048293065 0.8621611964256584\n",
            "-0.018855243279755098 -0.0193366132997423\n",
            "0.6940788647060557 0.6910434041749088\n",
            "-0.07273507670131728 -0.07459198646408213\n",
            "0.8806859805707051 0.8768344189250571\n",
            "-0.24431007431651733 -0.2505472542675757\n",
            "0.7676577274855123 0.7643004796975408\n",
            "-0.13856085675313734 -0.14209828352589693\n",
            "0.20731859273304962 0.20641191276105453\n",
            "0.31341236883410484 0.321413714455134\n",
            "0.8589592844725732 0.8552027416091295\n",
            "-0.20383642227394397 -0.20904031920639457\n",
            "0.8273728891868694 0.8237544851734705\n",
            "-0.21150876725688547 -0.21690853739038635\n",
            "0.22179620609306414 0.22082621022690455\n",
            "0.20898874563721745 0.2143241801989397\n",
            "0.471951770889032 0.46988775331698673\n",
            "0.25793305407652234 0.26451802556450554\n",
            "0.41596350088938094 0.4141443404833338\n",
            "0.28197501901950633 0.2891737763374269\n",
            "0.3381656571171264 0.33668673511364033\n",
            "0.26809840135182833 0.27494289181543485\n",
            "0.9845160797080539 0.9802104310934705\n",
            "-0.03789112420584301 -0.038858475883341015\n",
            "0.5705108132573062 0.5680157609739199\n",
            "0.2744093971183975 0.2814150058509768\n",
            "0.8773258963826142 0.873489029613086\n",
            "0.08576097815917476 0.08795043618727293\n",
            "0.9063320401533582 0.9023683189166304\n",
            "-0.1378894662403933 -0.1414097525679333\n",
            "0.7438724153249666 0.7406191893995754\n",
            "0.12086334704326789 0.12394896046754046\n",
            "0.8463149942262852 0.8426137494650294\n",
            "0.09545417674162282 0.097891099897916\n",
            "0.7415027427304918 0.7382598802493691\n",
            "0.0723684157044577 0.0742159646963872\n",
            "0.8764030088421128 0.8725701781970747\n",
            "-0.1678289900409275 -0.17211362551827372\n",
            "1.0024914009344459 0.9981071396709376\n",
            "0.018513471225616224 0.018986115883745665\n",
            "0.6019784179995129 0.5993457463805413\n",
            "0.2543521234424157 0.26084567459572927\n",
            "-0.8932724334104041 -0.8893658266066843\n",
            "-0.5165270705346464 -0.5297138877280453\n",
            "-0.913579412206031 -0.9095839955627161\n",
            "-0.535325610564026 -0.5489923501564844\n",
            "-0.7924640402685831 -0.7889983054091775\n",
            "-0.4462718913397002 -0.45766510998273785\n",
            "-0.8562212287132411 -0.852476660368274\n",
            "-0.4829945162880604 -0.49532525509157005\n",
            "-0.9346304900916167 -0.9305430093914501\n",
            "-0.4223991181475296 -0.43318287038707604\n",
            "-1.0253452857642842 -1.020861076110309\n",
            "-0.42816350882104043 -0.4390944246273758\n",
            "-0.8282616824627838 -0.8246393914315739\n",
            "-0.48923911617259475 -0.5017292781734947\n",
            "-0.7389999257985433 -0.7357680090505353\n",
            "-0.4256068025432339 -0.4364724462269141\n",
            "-0.661693151621932 -0.6587993256496786\n",
            "-0.5554591569719778 -0.5696399013689891\n",
            "-0.6105547631909359 -0.6078845840801591\n",
            "-0.5984689438739009 -0.6137477182285981\n",
            "-1.388951774767535 -1.382877381054713\n",
            "0.6655875642231398 0.6825798615029808\n",
            "-0.9433196813900453 -0.9391941996808073\n",
            "0.3558076276546139 0.3648913144728899\n",
            "-0.9426789669600855 -0.9385562873292032\n",
            "0.050619676533492315 0.051911985221486566\n",
            "-0.9548021531102899 -0.9506264543558729\n",
            "0.1941443181204803 0.19910077786525587\n",
            "-1.4611960338099597 -1.4548056895501948\n",
            "0.380514376555193 0.390228820984794\n",
            "-1.4009317501363636 -1.394804963613091\n",
            "0.4960582636992076 0.5087225169665249\n",
            "-1.16954539079528 -1.1644305413831064\n",
            "-0.030141065930358403 -0.03091056040433904\n",
            "-1.064719200945568 -1.060062794771043\n",
            "0.34297967369360527 0.3517358658005701\n",
            "-1.4212606240071637 -1.4150449318891303\n",
            "0.15301083368879465 0.15691716504597825\n",
            "-1.7457754548941273 -1.7381405408244988\n",
            "0.5310244239439953 0.5445813552322842\n"
          ],
          "name": "stdout"
        },
        {
          "output_type": "display_data",
          "data": {
            "image/png": "[encoded data removed]",
            "text/plain": [
              "<Figure size 576x396 with 1 Axes>"
            ]
          },
          "metadata": {
            "tags": []
          }
        },
        {
          "output_type": "execute_result",
          "data": {
            "text/plain": [
              "'\\nNOT ORTHOGONAL\\n'"
            ]
          },
          "metadata": {
            "tags": []
          },
          "execution_count": 13
        }
      ]
    },
    {
      "metadata": {
        "id": "3o7LlpU2uTvY",
        "colab_type": "code",
        "outputId": "eebe4547-0272-43e3-8848-1d478268e4e9",
        "colab": {
          "base_uri": "https://localhost:8080/",
          "height": 324
        }
      },
      "cell_type": "code",
      "source": [
        "import matplotlib.pyplot as plt\n",
        "fig = plt.figure(figsize=(8,5))\n",
        "plt.scatter(x_pca[:,0], x_pca[:,1], c=y_sample, cmap = plt.cm.get_cmap('nipy_spectral', num))\n",
        "\n",
        "cbar = plt.colorbar()\n",
        "location = np.arange(1, num+1)\n",
        "cbar.set_ticks(location)"
      ],
      "execution_count": 14,
      "outputs": [
        {
          "output_type": "display_data",
          "data": {
            "image/png": "[encoded data removed]",
            "text/plain": [
              "<Figure size 576x360 with 2 Axes>"
            ]
          },
          "metadata": {
            "tags": []
          }
        }
      ]
    },
    {
      "metadata": {
        "id": "9VPNELkFHXHj",
        "colab_type": "code",
        "outputId": "84c706e3-58e0-4fef-b5f3-95e818877cb9",
        "colab": {
          "base_uri": "https://localhost:8080/",
          "height": 324
        }
      },
      "cell_type": "code",
      "source": [
        ""
      ],
      "execution_count": 0,
      "outputs": [
        {
          "output_type": "display_data",
          "data": {
            "image/png": "[encoded data removed]",
            "text/plain": [
              "<Figure size 576x360 with 2 Axes>"
            ]
          },
          "metadata": {
            "tags": []
          }
        }
      ]
    },
    {
      "metadata": {
        "id": "Hmr_c1UkHXKS",
        "colab_type": "code",
        "colab": {}
      },
      "cell_type": "code",
      "source": [
        "x_train, x_test1, y_train, y_test1 = train_test_split(X, y, test_size=0.3,random_state=42)\n",
        "x_test2, x_test3, y_test2, y_test3 = train_test_split(x_test1, y_test1, test_size=0.5, random_state=42)\n"
      ],
      "execution_count": 0,
      "outputs": []
    },
    {
      "metadata": {
        "id": "JCCPSbt8HXNB",
        "colab_type": "code",
        "colab": {
          "base_uri": "https://localhost:8080/",
          "height": 272
        },
        "outputId": "efc78beb-3cf3-4488-bfc5-608a5fe4f696"
      },
      "cell_type": "code",
      "source": [
        "clf = LogisticRegression(C=0.001)\n",
        "clf =clf.fit(x_train,y_train)\n",
        "pred = clf.predict(x_test2)\n",
        "from sklearn.metrics import accuracy_score\n",
        "print(\"accuracy_score for predicted data\")\n",
        "print(\"%d percent\"%(100*accuracy_score(pred,y_test2)) )\n",
        "print(\"predicted classes: \")\n",
        "print(pred)\n",
        "print(\"actual classes: \")\n",
        "print(y_test2)\n",
        "scaler = StandardScaler()\n",
        "scaler = scaler.fit(x_train)\n",
        "x_train_scaled = scaler.transform(x_train)\n",
        "x_cross_val_scaled = scaler.transform(x_test2)\n",
        "x_test_scaled=scaler.transform(x_test3)\n",
        "y_cross_val = y_test2\n",
        "y_test = y_test3\n",
        "\n"
      ],
      "execution_count": 17,
      "outputs": [
        {
          "output_type": "stream",
          "text": [
            "/usr/local/lib/python3.6/dist-packages/sklearn/linear_model/logistic.py:433: FutureWarning: Default solver will be changed to 'lbfgs' in 0.22. Specify a solver to silence this warning.\n",
            "  FutureWarning)\n",
            "/usr/local/lib/python3.6/dist-packages/sklearn/linear_model/logistic.py:460: FutureWarning: Default multi_class will be changed to 'auto' in 0.22. Specify the multi_class option to silence this warning.\n",
            "  \"this warning.\", FutureWarning)\n"
          ],
          "name": "stderr"
        },
        {
          "output_type": "stream",
          "text": [
            "accuracy_score for predicted data\n",
            "90 percent\n",
            "predicted classes: \n",
            "[25 23 28 15  2 26 25 20 19 12 29 24  1 17 19 36 12  9 39 33  7 27  4 24\n",
            " 23 38 37  6 30 31  2 26 27 29 25 39 13 35 40 24 18  7 37 20 40  4  8 11\n",
            " 14  2 22 24 25 34 33  7  3 30  1  7]\n",
            "actual classes: \n",
            "[25 23 14 15  2 26  4 20 19 12 29 24  1 17 14 36 12  9 39 33  7 27  4 24\n",
            " 23 38 37  6 30 31  2 26 27 29  4 39 13 35 40 24 18  7 37 20 40  4 10 11\n",
            " 14  2 22 24  4 34 33  7  3 30  1  7]\n"
          ],
          "name": "stdout"
        }
      ]
    },
    {
      "metadata": {
        "id": "X5068w-Uw1zF",
        "colab_type": "code",
        "colab": {}
      },
      "cell_type": "code",
      "source": [
        "def n_comp():\n",
        "  import numpy as np\n",
        "  from sklearn.decomposition import PCA\n",
        "  np.random.seed(0)\n",
        "  print(x_train.shape[1])\n",
        "  for i in range(x_train.shape[1]):\n",
        "    my_model = PCA(n_components=i)\n",
        "    my_model.fit_transform(x_train)\n",
        "    print(i)\n",
        "    print (my_model.explained_variance_ratio_)\n"
      ],
      "execution_count": 0,
      "outputs": []
    },
    {
      "metadata": {
        "id": "CRivpz-3w2HQ",
        "colab_type": "code",
        "colab": {}
      },
      "cell_type": "code",
      "source": [
        "x_test=x_cross_val_scaled"
      ],
      "execution_count": 0,
      "outputs": []
    },
    {
      "metadata": {
        "id": "F4elN_ElHXPu",
        "colab_type": "code",
        "outputId": "2bf05c88-2509-47bb-be2e-cc8b89cea4d6",
        "colab": {
          "base_uri": "https://localhost:8080/",
          "height": 154
        }
      },
      "cell_type": "code",
      "source": [
        "from sklearn.decomposition import PCA\n",
        "pca = PCA(n_components=0.99, svd_solver='full')\n",
        "x_train_pca = pca.fit_transform(x_train_scaled)\n",
        "x_cross_val_pca = pca.transform(x_cross_val_scaled)\n",
        "x_test_pca = pca.transform(x_test_scaled)\n",
        "print(x_cross_val_pca.shape)\n",
        "print(x_test_pca.shape)\n",
        "print(x_train_pca.shape)\n",
        "clf =clf.fit(x_train_pca, y_train)\n"
      ],
      "execution_count": 31,
      "outputs": [
        {
          "output_type": "stream",
          "text": [
            "(60, 237)\n",
            "(60, 237)\n",
            "(280, 237)\n"
          ],
          "name": "stdout"
        },
        {
          "output_type": "stream",
          "text": [
            "/usr/local/lib/python3.6/dist-packages/sklearn/linear_model/logistic.py:433: FutureWarning: Default solver will be changed to 'lbfgs' in 0.22. Specify a solver to silence this warning.\n",
            "  FutureWarning)\n",
            "/usr/local/lib/python3.6/dist-packages/sklearn/linear_model/logistic.py:460: FutureWarning: Default multi_class will be changed to 'auto' in 0.22. Specify the multi_class option to silence this warning.\n",
            "  \"this warning.\", FutureWarning)\n"
          ],
          "name": "stderr"
        }
      ]
    },
    {
      "metadata": {
        "id": "rdJnc00sHXST",
        "colab_type": "code",
        "outputId": "ecd2f8cd-84c3-4f70-d132-8c941ccc5455",
        "colab": {
          "base_uri": "https://localhost:8080/",
          "height": 84
        }
      },
      "cell_type": "code",
      "source": [
        "\n",
        "from sklearn.metrics import accuracy_score\n",
        "print(\"accuracy score for cross validation: \")\n",
        "print(100*clf.score(x_cross_val_pca, y_test2))\n",
        "print(\"accuracy score for test: \")\n",
        "print(100*clf.score(x_test_pca, y_test))\n"
      ],
      "execution_count": 33,
      "outputs": [
        {
          "output_type": "stream",
          "text": [
            "accuracy score for cross validation: \n",
            "81.66666666666667\n",
            "accuracy score for test: \n",
            "88.33333333333333\n"
          ],
          "name": "stdout"
        }
      ]
    },
    {
      "metadata": {
        "id": "6jPAXJx9HXc0",
        "colab_type": "code",
        "colab": {}
      },
      "cell_type": "code",
      "source": [
        ""
      ],
      "execution_count": 0,
      "outputs": []
    }
  ]
}