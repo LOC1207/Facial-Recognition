{
  "nbformat": 4,
  "nbformat_minor": 0,
  "metadata": {
    "colab": {
      "name": "Facial_Recognition_(5).ipynb",
      "version": "0.3.2",
      "provenance": []
    },
    "kernelspec": {
      "name": "python3",
      "display_name": "Python 3"
    }
  },
  "cells": [
    {
      "metadata": {
        "id": "vLIZgW9aa2Z5",
        "colab_type": "code",
        "colab": {}
      },
      "cell_type": "code",
      "source": [
        "import os\n",
        "import time\n",
        "import cv2\n",
        "import matplotlib.pyplot as plt\n",
        "import pandas as pd\n",
        "from sklearn.decomposition import PCA\n",
        "from sklearn.linear_model import LogisticRegression\n",
        "from sklearn.metrics import accuracy_score\n",
        "from sklearn.model_selection import train_test_split\n",
        "from sklearn.metrics import classification_report\n",
        "from sklearn.metrics import f1_score\n",
        "from sklearn.preprocessing import StandardScaler, scale\n",
        "from sklearn.svm import LinearSVC\n",
        "from skimage import io"
      ],
      "execution_count": 0,
      "outputs": []
    },
    {
      "metadata": {
        "id": "D_2Bzlvqa3BY",
        "colab_type": "code",
        "outputId": "3a326293-cb7e-4499-c493-5137e8eb3b8f",
        "colab": {
          "base_uri": "https://localhost:8080/",
          "height": 171
        }
      },
      "cell_type": "code",
      "source": [
        "from google.colab import drive\n",
        "drive.mount('/content/drive')\n",
        "!ls \"/content/drive/My Drive/data\"\n",
        "x = []\n",
        "y = []\n",
        "path = 'content/drive/My Drive/data'\n",
        "path_new = []\n",
        "path_data = []\n",
        "images = []\n",
        "dir = os.listdir('/content/drive/My Drive/data')\n",
        "for sub_dir in dir:\n",
        "  if(sub_dir=='README'):\n",
        "    continue\n",
        "  path_new.append(sub_dir)\n",
        "\n",
        "for loc in path_new:\n",
        "  loc='/'+path + '/'+loc\n",
        "  path_data.append(loc)\n",
        "\n",
        "for paths in path_data:\n",
        "  for image in os.listdir(paths):\n",
        "    images.append(image)\n",
        "#for path1 in path_data:"
      ],
      "execution_count": 2,
      "outputs": [
        {
          "output_type": "stream",
          "text": [
            "Go to this URL in a browser: https://accounts.google.com/o/oauth2/auth?client_id=947318989803-6bn6qk8qdgf4n4g3pfee6491hc0brc4i.apps.googleusercontent.com&redirect_uri=urn%3Aietf%3Awg%3Aoauth%3A2.0%3Aoob&scope=email%20https%3A%2F%2Fwww.googleapis.com%2Fauth%2Fdocs.test%20https%3A%2F%2Fwww.googleapis.com%2Fauth%2Fdrive%20https%3A%2F%2Fwww.googleapis.com%2Fauth%2Fdrive.photos.readonly%20https%3A%2F%2Fwww.googleapis.com%2Fauth%2Fpeopleapi.readonly&response_type=code\n",
            "\n",
            "Enter your authorization code:\n",
            "··········\n",
            "Mounted at /content/drive\n",
            "README\ts11  s14  s17  s2   s22  s25  s28  s30\ts33  s36  s39  s5  s8\n",
            "s1\ts12  s15  s18  s20  s23  s26  s29  s31\ts34  s37  s4   s6  s9\n",
            "s10\ts13  s16  s19  s21  s24  s27  s3   s32\ts35  s38  s40  s7\n"
          ],
          "name": "stdout"
        }
      ]
    },
    {
      "metadata": {
        "id": "-L2GUev9a3D-",
        "colab_type": "code",
        "colab": {}
      },
      "cell_type": "code",
      "source": [
        "import numpy as np\n",
        "\n",
        "X = []\n",
        "y = []\n",
        "\n",
        "for sub_dir in os.listdir('/content/drive/My Drive/data'):\n",
        "    if not os.path.isdir(os.path.join('/content/drive/My Drive/data', sub_dir)):\n",
        "        continue\n",
        "        \n",
        "    label = int(sub_dir[1:])\n",
        "    for file in os.listdir(os.path.join('/content/drive/My Drive/data', sub_dir)):\n",
        "        filename = os.path.join('/content/drive/My Drive/data', sub_dir, file)\n",
        "        image = cv2.imread(filename,0)\n",
        "\n",
        "        X.append(image)\n",
        "        y.append(label)\n",
        "        \n",
        "X = np.array(X, dtype='float64')\n",
        "y = np.array(y)\n"
      ],
      "execution_count": 0,
      "outputs": []
    },
    {
      "metadata": {
        "id": "RGB8SJ_4a3Gn",
        "colab_type": "code",
        "outputId": "b1d06077-1ed8-46e5-99f5-a3b63efa4284",
        "colab": {
          "base_uri": "https://localhost:8080/",
          "height": 67
        }
      },
      "cell_type": "code",
      "source": [
        "print(np.unique(y))\n",
        "print(\"X.shape: {}, y.shape: {}\".format(X.shape, y.shape))\n"
      ],
      "execution_count": 4,
      "outputs": [
        {
          "output_type": "stream",
          "text": [
            "[ 1  2  3  4  5  6  7  8  9 10 11 12 13 14 15 16 17 18 19 20 21 22 23 24\n",
            " 25 26 27 28 29 30 31 32 33 34 35 36 37 38 39 40]\n",
            "X.shape: (400, 112, 92), y.shape: (400,)\n"
          ],
          "name": "stdout"
        }
      ]
    },
    {
      "metadata": {
        "id": "Nm2_XGuBa3JO",
        "colab_type": "code",
        "outputId": "d183e6d1-032b-4310-afd3-310693fa953b",
        "colab": {
          "base_uri": "https://localhost:8080/",
          "height": 350
        }
      },
      "cell_type": "code",
      "source": [
        "pltimage = plt.imshow(X[1], cmap='gray')\n",
        "plt.show()"
      ],
      "execution_count": 5,
      "outputs": [
        {
          "output_type": "display_data",
          "data": {
            "image/png": "[encoded data removed]",
            "text/plain": [
              "<Figure size 576x396 with 1 Axes>"
            ]
          },
          "metadata": {
            "tags": []
          }
        }
      ]
    },
    {
      "metadata": {
        "id": "cEZjSQ4-ea6V",
        "colab_type": "text"
      },
      "cell_type": "markdown",
      "source": [
        ""
      ]
    },
    {
      "metadata": {
        "id": "dH1N7n_5a3Lu",
        "colab_type": "code",
        "outputId": "81b38acf-3b87-4ee7-a258-1c80e5914157",
        "colab": {
          "base_uri": "https://localhost:8080/",
          "height": 34
        }
      },
      "cell_type": "code",
      "source": [
        "total_images = X.shape[0]\n",
        "X_dimension = X.shape[1]\n",
        "Y_dimension = X.shape[2]\n",
        "X=X.reshape(total_images,(X_dimension*Y_dimension))\n",
        "print(X.shape)"
      ],
      "execution_count": 6,
      "outputs": [
        {
          "output_type": "stream",
          "text": [
            "(400, 10304)\n"
          ],
          "name": "stdout"
        }
      ]
    },
    {
      "metadata": {
        "id": "hxijOj_Ga3OO",
        "colab_type": "code",
        "outputId": "a0ff2f7e-c3dc-4e75-ba15-28d2f1dc11d0",
        "colab": {
          "base_uri": "https://localhost:8080/",
          "height": 34
        }
      },
      "cell_type": "code",
      "source": [
        "num = 5\n",
        "x_sample = X[y<=num]\n",
        "y_sample = y[y<=num]\n",
        "#print(x_sample, y_sample)\n",
        "scaler = StandardScaler()\n",
        "#print(scaler.fit(x_sample))\n",
        "#print(scaler.mean_)\n",
        "x_scaler = scaler.fit_transform(x_sample)\n",
        "print(x_scaler.shape)"
      ],
      "execution_count": 7,
      "outputs": [
        {
          "output_type": "stream",
          "text": [
            "(50, 10304)\n"
          ],
          "name": "stdout"
        }
      ]
    },
    {
      "metadata": {
        "id": "K6ZbtacRa3Q1",
        "colab_type": "code",
        "colab": {}
      },
      "cell_type": "code",
      "source": [
        "def PCA_model(X):\n",
        "  pca = PCA(n_components=2)\n",
        "  pca.fit(X)\n",
        "  return pca\n"
      ],
      "execution_count": 0,
      "outputs": []
    },
    {
      "metadata": {
        "id": "qlJSjjOGa3Tn",
        "colab_type": "code",
        "outputId": "f4ff7163-6730-42f3-e562-ccf02ce3d968",
        "colab": {
          "base_uri": "https://localhost:8080/",
          "height": 118
        }
      },
      "cell_type": "code",
      "source": [
        "pca_model = PCA_model(x_scaler)\n",
        "x_pca = pca_model.fit_transform(x_scaler)\n",
        "\n",
        "print(\"x_pca.shape: %d %d\" %(x_pca.shape[0], x_pca.shape[1]))\n",
        "print(\"pca_model.explained_variance_ratio: \")\n",
        "print(pca_model.explained_variance_ratio_)\n",
        "\n",
        "\n",
        "pca_first= pca_model.components_[0]\n",
        "pca_second = pca_model.components_[1]\n",
        "print(\"pca_componenets: \")\n",
        "print(pca_first[0], pca_first[1], pca_first[2])\n",
        "print(pca_second[0], pca_second[1], pca_second[2])\n",
        "#print(pca_first, pca_second)"
      ],
      "execution_count": 9,
      "outputs": [
        {
          "output_type": "stream",
          "text": [
            "x_pca.shape: 50 2\n",
            "pca_model.explained_variance_ratio: \n",
            "[0.19366511 0.15008569]\n",
            "pca_componenets: \n",
            "-0.019850732388327703 -0.019763917872375525 -0.019939368308307056\n",
            "0.007952031443669447 0.008155045083337004 0.007317617650952473\n"
          ],
          "name": "stdout"
        }
      ]
    },
    {
      "metadata": {
        "id": "qRO7hHDewQl4",
        "colab_type": "code",
        "colab": {
          "base_uri": "https://localhost:8080/",
          "height": 2044
        },
        "outputId": "058a3a0b-9674-4cb2-cfed-03480b98c7b9"
      },
      "cell_type": "code",
      "source": [
        "for i, j in zip(x_pca, x_scaler):\n",
        "  plt.scatter(pca_first[0]*i[0], pca_first[1]*i[0], color='r')\n",
        "  plt.scatter(pca_second[0]*i[1], pca_second[1]*i[1], color='c')\n",
        "  print(pca_first[0]*i[0], pca_first[1]*i[0])\n",
        "  print(pca_second[0]*i[1], pca_second[1]*i[1])\n",
        "  plt.scatter(j[0],j[1], color='b')\n",
        "plt.show()\n",
        "\n",
        "\"\"\"\n",
        "NOT ORTHOGONAL\n",
        "\"\"\"\n"
      ],
      "execution_count": 10,
      "outputs": [
        {
          "output_type": "stream",
          "text": [
            "1.0663909542662278 1.061727236439633\n",
            "-0.11123080805072534 -0.11407050647816529\n",
            "0.43577629625297615 0.4338704870625364\n",
            "0.2506574016144491 0.25705663076386004\n",
            "0.9727857174808635 0.9685313696041095\n",
            "-0.12211950578852769 -0.1252371903097916\n",
            "0.765001782556565 0.7616561498536502\n",
            "-0.021901358570689262 -0.02246049550929374\n",
            "0.5719651138461532 0.5694637011260218\n",
            "0.2264520642716793 0.23223333640367316\n",
            "0.635208371510716 0.632430372884635\n",
            "0.16805256692718518 0.1723429125462941\n",
            "0.4076846922311698 0.4059017379036019\n",
            "0.2846067291271497 0.29187267725163535\n",
            "0.8619774984302793 0.85820775543924\n",
            "-0.06828345693191283 -0.07002671879135458\n",
            "0.33026643622209967 0.32882206025475597\n",
            "0.13590290509025713 0.13937247680903245\n",
            "0.8659483084241242 0.8621611996280955\n",
            "-0.0188552535156565 -0.01933662405225256\n",
            "0.6940788647658164 0.6910434039325066\n",
            "-0.07273507254662716 -0.07459198318811235\n",
            "0.8806859805722531 0.876834418543529\n",
            "-0.24431006119017046 -0.2505472441139257\n",
            "0.7676577280122645 0.7643004798880834\n",
            "-0.13856085661859244 -0.1420982852639468\n",
            "0.20731859057933522 0.2064119105265823\n",
            "0.31341234944931395 0.32141369881886633\n",
            "0.8589592852807836 0.8552027420401862\n",
            "-0.20383641141225567 -0.20904031082723085\n",
            "0.8273728892081792 0.8237544848348072\n",
            "-0.21150875384648854 -0.2169085265013249\n",
            "0.22179620922835053 0.2208262132520051\n",
            "0.20898873573461735 0.21432417287310881\n",
            "0.4719517704641781 0.46988775268870736\n",
            "0.25793304929839683 0.2645180241566521\n",
            "0.41596349950326866 0.4141443389223531\n",
            "0.28197501655739227 0.2891737776302258\n",
            "0.3381656589329089 0.3366867367743908\n",
            "0.26809838931298413 0.2749428830991308\n",
            "0.9845160800609246 0.9802104310165658\n",
            "-0.037891124447110826 -0.038858476643791114\n",
            "0.5705108117514129 0.568015759226459\n",
            "0.27440939069800435 0.28141500298200856\n",
            "0.877325894899657 0.8734890277550064\n",
            "0.08576099979927992 0.08795045954099674\n",
            "0.9063320439463256 0.902368322298785\n",
            "-0.13788946850440437 -0.14140975675668355\n",
            "0.74387241404737 0.7406191878040062\n",
            "0.12086336223806349 0.12394897768667207\n",
            "0.8463149970977352 0.8426137519558022\n",
            "0.09545415976879021 0.09789108378416211\n",
            "0.7415027449587284 0.7382598821453313\n",
            "0.0723684028232854 0.07421595246618565\n",
            "0.8764030111443047 0.8725701801079918\n",
            "-0.16782899024546202 -0.17211362800033236\n",
            "1.0024914042105504 0.9981071424966635\n",
            "0.018513454718012468 0.018986099205367497\n",
            "0.6019784163228683 0.5993457444493884\n",
            "0.2543521140658186 0.2608456684235227\n",
            "-0.8932724351353399 -0.8893658279355322\n",
            "-0.5165270471236885 -0.5297138707128728\n",
            "-0.9135794145552673 -0.9095839975043011\n",
            "-0.5353255902109475 -0.5489923365317793\n",
            "-0.7924640392957065 -0.7889983040958599\n",
            "-0.44627187478856123 -0.4576650990513017\n",
            "-0.8562212289518997 -0.8524766602334605\n",
            "-0.482994496337517 -0.49532524117114546\n",
            "-0.934630492991512 -0.9305430118721296\n",
            "-0.4223990986158546 -0.4331828560757886\n",
            "-1.0253452889802088 -1.0208610788661776\n",
            "-0.4281634859889096 -0.43909440700941893\n",
            "-0.8282616816375978 -0.8246393902497302\n",
            "-0.4892391004466313 -0.5017292686700507\n",
            "-0.7389999236062809 -0.7357680065464196\n",
            "-0.4256067932806278 -0.43647244249029277\n",
            "-0.6616931527870944 -0.6587993265219305\n",
            "-0.555459123984634 -0.5696398750600646\n",
            "-0.6105547645468387 -0.6078845851645607\n",
            "-0.5984689356785402 -0.6137477179269168\n",
            "-1.3889517762954788 -1.3828773819718259\n",
            "0.6655875243928049 0.6825798296674367\n",
            "-0.9433196860009011 -0.939194203861185\n",
            "0.3558076250531289 0.36489131662240837\n",
            "-0.9426789690804142 -0.9385562890302244\n",
            "0.050619699001968214 0.0519120089489374\n",
            "-0.9548021525631711 -0.9506264533958392\n",
            "0.19414430520168494 0.1991007672452424\n",
            "-1.4611960365672951 -1.4548056916598993\n",
            "0.38051436751816764 0.39022881686898847\n",
            "-1.4009317514706743 -1.394804964332207\n",
            "0.4960582295084578 0.5087224886192198\n",
            "-1.169545393680556 -1.1644305437470504\n",
            "-0.030141053328684265 -0.030910547889038582\n",
            "-1.0647192020014806 -1.06006279535922\n",
            "0.34297964940567366 0.35173584553630893\n",
            "-1.421260623399901 -1.415044930666322\n",
            "0.1530108339144002 0.15691716734901706\n",
            "-1.7457754526607718 -1.7381405378415555\n",
            "0.5310243959622537 0.5445813337259223\n"
          ],
          "name": "stdout"
        },
        {
          "output_type": "display_data",
          "data": {
            "image/png": "[encoded data removed]",
            "text/plain": [
              "<Figure size 576x396 with 1 Axes>"
            ]
          },
          "metadata": {
            "tags": []
          }
        },
        {
          "output_type": "execute_result",
          "data": {
            "text/plain": [
              "'\\nNOT ORTHOGONAL\\n'"
            ]
          },
          "metadata": {
            "tags": []
          },
          "execution_count": 10
        }
      ]
    },
    {
      "metadata": {
        "id": "F9-f-YR_wQ5n",
        "colab_type": "code",
        "colab": {
          "base_uri": "https://localhost:8080/",
          "height": 324
        },
        "outputId": "c9846436-508a-41a3-ff60-85e62764c8cc"
      },
      "cell_type": "code",
      "source": [
        "import matplotlib.pyplot as plt\n",
        "fig = plt.figure(figsize=(8,5))\n",
        "plt.scatter(x_pca[:,0], x_pca[:,1], c=y_sample, cmap = plt.cm.get_cmap('nipy_spectral', num))\n",
        "\n",
        "cbar = plt.colorbar()\n",
        "location = np.arange(1, num+1)\n",
        "cbar.set_ticks(location)"
      ],
      "execution_count": 11,
      "outputs": [
        {
          "output_type": "display_data",
          "data": {
            "image/png": "[encoded data removed]",
            "text/plain": [
              "<Figure size 576x360 with 2 Axes>"
            ]
          },
          "metadata": {
            "tags": []
          }
        }
      ]
    },
    {
      "metadata": {
        "id": "t8IIcc1lwRA2",
        "colab_type": "code",
        "colab": {}
      },
      "cell_type": "code",
      "source": [
        ""
      ],
      "execution_count": 0,
      "outputs": []
    },
    {
      "metadata": {
        "id": "XIotP8NfwRD7",
        "colab_type": "code",
        "colab": {}
      },
      "cell_type": "code",
      "source": [
        ""
      ],
      "execution_count": 0,
      "outputs": []
    },
    {
      "metadata": {
        "id": "3tXe4uxIwRG1",
        "colab_type": "code",
        "colab": {}
      },
      "cell_type": "code",
      "source": [
        ""
      ],
      "execution_count": 0,
      "outputs": []
    },
    {
      "metadata": {
        "id": "TSzRIG5qwRJk",
        "colab_type": "code",
        "colab": {}
      },
      "cell_type": "code",
      "source": [
        ""
      ],
      "execution_count": 0,
      "outputs": []
    },
    {
      "metadata": {
        "id": "zVIW7bPhwRMM",
        "colab_type": "code",
        "colab": {}
      },
      "cell_type": "code",
      "source": [
        ""
      ],
      "execution_count": 0,
      "outputs": []
    }
  ]
}